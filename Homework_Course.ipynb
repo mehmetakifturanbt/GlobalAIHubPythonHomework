{
 "cells": [
  {
   "cell_type": "code",
   "execution_count": 1,
   "metadata": {},
   "outputs": [
    {
     "name": "stdout",
     "output_type": "stream",
     "text": [
      "Öğrenci Yönetim Sistemine Giriş İçin; \n"
     ]
    },
    {
     "name": "stdin",
     "output_type": "stream",
     "text": [
      "Adınız:  Meh\n",
      "Soyadınız:  akif\n"
     ]
    },
    {
     "name": "stdout",
     "output_type": "stream",
     "text": [
      "Adınız ya da soyadınız YANLIŞ! 2 hakkınız kaldı.\n"
     ]
    },
    {
     "name": "stdin",
     "output_type": "stream",
     "text": [
      "Adınız:  akif\n",
      "Soyadınız:  turan\n"
     ]
    },
    {
     "name": "stdout",
     "output_type": "stream",
     "text": [
      "\n",
      "Hoşgeldiniz\n",
      "\n",
      "DERS TANIMLAMA MODÜLÜ:\n",
      "Almak istediğiniz dersleri kendiniz yazacaksınız.\n",
      "En az 3 ders almalısınız.\n",
      "En fazla 5 ders alabilirsiniz.\n",
      "\n",
      "Ders Tanımlamak İçin; \n"
     ]
    },
    {
     "name": "stdin",
     "output_type": "stream",
     "text": [
      "1. dersinizi giriniz:  fizik\n",
      "Başka ders eklemek istiyor musunuz? [E/H] e\n",
      "2. dersinizi giriniz:  kimya\n",
      "Başka ders eklemek istiyor musunuz? [E/H] e\n",
      "3. dersinizi giriniz:  biyoloji\n",
      "Başka ders eklemek istiyor musunuz? [E/H] e\n",
      "4. dersinizi giriniz:  fen\n",
      "Başka ders eklemek istiyor musunuz? [E/H] e\n",
      "5. dersinizi giriniz:  bilgisayar\n"
     ]
    },
    {
     "name": "stdout",
     "output_type": "stream",
     "text": [
      "Maximum ders sayısına ulaştınız!\n",
      "5 adet ders seçtiniz.\n",
      "Seçtiğiniz dersler: \n",
      "FIZIK\n",
      "KIMYA\n",
      "BIYOLOJI\n",
      "FEN\n",
      "BILGISAYAR\n",
      "\n",
      "SINAV HESAPLAMA MODÜLÜ:\n",
      "Sınavını almak istediğiniz dersi seçiniz.\n",
      "\n",
      "FIZIK\t ---> 1\n",
      "KIMYA\t ---> 2\n",
      "BIYOLOJI\t ---> 3\n",
      "FEN\t ---> 4\n",
      "BILGISAYAR\t ---> 5\n"
     ]
    },
    {
     "name": "stdin",
     "output_type": "stream",
     "text": [
      "Kaç numaralı ders:  6\n",
      "Kaç numaralı ders:  3\n",
      "Aldığınız BIYOLOJI dersinin VİZE notunu giriniz:  30\n",
      "Aldığınız BIYOLOJI dersinin FİNAL notunu giriniz:  30\n",
      "Aldığınız BIYOLOJI dersinin PROJE notunu giriniz:  30\n"
     ]
    },
    {
     "name": "stdout",
     "output_type": "stream",
     "text": [
      "Ortalamanız: 30\n",
      "Dersten DD ile geçtiniz.\n",
      "Program KAPATILIYOR!(5)\n",
      "Program KAPATILIYOR!(4)\n",
      "Program KAPATILIYOR!(3)\n",
      "Program KAPATILIYOR!(2)\n",
      "Program KAPATILIYOR!(1)\n",
      "Program KAPATILIYOR!(0)\n"
     ]
    }
   ],
   "source": [
    "\"\"\"\n",
    "Simple Student Management System v1.0\n",
    "Basit Öğrenci Yönetim Sistemi v1.0\n",
    "Global AI Hub Bitirme Ödevi\n",
    "Mehmet Akif TURAN\n",
    "\"\"\"\n",
    "# ÖRNEK KULLANICI: Akif Turan\n",
    "import time\n",
    "\n",
    "def kullaniciSorgu():\n",
    "    durum = \"başarısız\"\n",
    "    kullanicilar = {\"kullanici0\": { \"name\"   : \"AKIF\",\n",
    "                                    \"surname\": \"TURAN\"},\n",
    "                    \"kullanici1\": { \"name\"   : \"ALI\",\n",
    "                                    \"surname\": \"SEZGIN\"},\n",
    "                    \"kullanici2\": { \"name\"   : \"IRMAK\",\n",
    "                                    \"surname\": \"ŞEKER\"},\n",
    "                    \"kullanici3\": { \"name\"   : \"KAĞAN\",\n",
    "                                    \"surname\": \"NISA\"}}\n",
    "    for harf in (\"Öğrenci Yönetim Sistemine Giriş İçin; \\n\"):\n",
    "        print(harf,end=\"\")\n",
    "        time.sleep(0.03)\n",
    "    for hataSay in range(3):\n",
    "        name = input(\"Adınız: \")\n",
    "        surname = input(\"Soyadınız: \")\n",
    "        for ogrenci in range(len(kullanicilar)):\n",
    "            if name.upper() == kullanicilar[\"kullanici\"+str(ogrenci)][\"name\"] and surname.upper() == kullanicilar[\"kullanici\"+str(ogrenci)][\"surname\"]:\n",
    "                durum = \"başarılı\"\n",
    "                print(\"\\nHoşgeldiniz\")\n",
    "        if durum == \"başarılı\":\n",
    "            break        \n",
    "        print(f\"Adınız ya da soyadınız YANLIŞ! {2-hataSay} hakkınız kaldı.\")\n",
    "        \n",
    "    if durum == \"başarısız\":\n",
    "        for harf in (\"3 defa YANLIŞ giriş yaptınız. Lütfen daha sonra tekrar deneyiniz!\\n\"):\n",
    "            print(harf,end=\"\")\n",
    "            time.sleep(0.02)\n",
    "        kapat()\n",
    "        \n",
    "def kapat():\n",
    "    for sayac in range(6):\n",
    "        print(f\"Program KAPATILIYOR!({5-sayac})\")\n",
    "        if sayac == 5:\n",
    "            exit()\n",
    "        time.sleep(1)\n",
    "           \n",
    "def dersTanimla():\n",
    "    dersler = []\n",
    "    devam = \"E\"\n",
    "    sayac = 1\n",
    "    print(\"\"\"\n",
    "DERS TANIMLAMA MODÜLÜ:\n",
    "Almak istediğiniz dersleri kendiniz yazacaksınız.\n",
    "En az 3 ders almalısınız.\n",
    "En fazla 5 ders alabilirsiniz.\n",
    "\"\"\")\n",
    "    for harf in (\"Ders Tanımlamak İçin; \\n\"):\n",
    "        print(harf,end=\"\")\n",
    "        time.sleep(0.03)\n",
    "    while devam.upper() == \"E\":\n",
    "        ders = input(f\"{sayac}. dersinizi giriniz: \")\n",
    "        dersler.append(ders)\n",
    "        sayac +=1\n",
    "        if sayac == 6:\n",
    "            print(\"Maximum ders sayısına ulaştınız!\")\n",
    "            break\n",
    "        while True:\n",
    "            devam = input(\"Başka ders eklemek istiyor musunuz? [E/H]\")\n",
    "            if devam.upper() == \"E\" or devam.upper() == \"H\":\n",
    "                break\n",
    "    print(f\"{sayac-1} adet ders seçtiniz.\\nSeçtiğiniz dersler: \")\n",
    "    for akif in dersler:\n",
    "        print(akif.upper())\n",
    "    if len(dersler)<3:\n",
    "        return(\"Sınıfta kaldınız.\")\n",
    "    return(dersler)\n",
    "\n",
    "def notHesap(exam):\n",
    "    secim = \"mehmet akif turan\"\n",
    "    print(\"\"\"\n",
    "SINAV HESAPLAMA MODÜLÜ:\n",
    "Sınavını almak istediğiniz dersi seçiniz.\n",
    "\"\"\")\n",
    "    sinavlar = [\"VİZE\",\"FİNAL\",\"PROJE\"]\n",
    "    notlar = {}\n",
    "    for sayac in range(len(exam)):\n",
    "        print(f\"{exam[sayac].upper()}\\t ---> {sayac+1}\")\n",
    "        time.sleep(1)\n",
    "    while not secim.isdigit() or int(secim) > len(exam) or int(secim)==0:\n",
    "        secim = input(\"Kaç numaralı ders: \")\n",
    "    ders = exam[int(secim)-1]\n",
    "    for irmak in range(3):\n",
    "        notunuz = \"mehmet akif turan\"\n",
    "        while not notunuz.isdigit() or int(notunuz) > 100 or int(notunuz)<0:\n",
    "            notunuz = input(f\"Aldığınız {ders.upper()} dersinin {sinavlar[irmak]} notunu giriniz: \")\n",
    "        notlar[sinavlar[irmak]]=notunuz\n",
    "\n",
    "    puan = int(int(notlar[\"VİZE\"])*0.3 + int(notlar[\"FİNAL\"])*0.5 + int(notlar[\"PROJE\"])*0.2)\n",
    "    print(\"Ortalamanız:\",puan)\n",
    "    if puan>90:\n",
    "        harfNotu=\"AA\"\n",
    "    elif puan>70:\n",
    "        harfNotu=\"BB\"\n",
    "    elif puan>50:\n",
    "        harfNotu=\"CC\"\n",
    "    elif puan>=30:\n",
    "        harfNotu=\"DD\"\n",
    "    else:\n",
    "        harfNotu=\"FF\"\n",
    "    if harfNotu == \"FF\":\n",
    "        print(\"Dersten KALDINIZ!\")\n",
    "    else:\n",
    "        print(f\"Dersten {harfNotu} ile geçtiniz.\")\n",
    "    kapat()\n",
    "    \n",
    "def main():                            \n",
    "    kullaniciSorgu()\n",
    "    exam = dersTanimla()\n",
    "    if isinstance(exam,str):\n",
    "        print(exam)\n",
    "        kapat()\n",
    "    notHesap(exam)\n",
    "    \n",
    "if __name__ == \"__main__\":\n",
    "    main()\n"
   ]
  },
  {
   "cell_type": "code",
   "execution_count": null,
   "metadata": {},
   "outputs": [],
   "source": []
  }
 ],
 "metadata": {
  "kernelspec": {
   "display_name": "Python 3",
   "language": "python",
   "name": "python3"
  },
  "language_info": {
   "codemirror_mode": {
    "name": "ipython",
    "version": 3
   },
   "file_extension": ".py",
   "mimetype": "text/x-python",
   "name": "python",
   "nbconvert_exporter": "python",
   "pygments_lexer": "ipython3",
   "version": "3.9.1"
  }
 },
 "nbformat": 4,
 "nbformat_minor": 4
}
