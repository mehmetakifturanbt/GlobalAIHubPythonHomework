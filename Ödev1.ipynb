{
 "cells": [
  {
   "cell_type": "code",
   "execution_count": 1,
   "metadata": {},
   "outputs": [
    {
     "name": "stdin",
     "output_type": "stream",
     "text": [
      "1. değeri giriniz:  4\n",
      "2. değeri giriniz:  Akif\n",
      "3. değeri giriniz:  Mehmet\n",
      "4. değeri giriniz:  True\n",
      "5. değeri giriniz:  5.6\n"
     ]
    },
    {
     "name": "stdout",
     "output_type": "stream",
     "text": [
      "\n",
      "Girdiğiniz \n",
      "1. değer: 4 \n",
      "2. değer: Akif     \n",
      "3. değer: Mehmet\n",
      "4. değer: True \n",
      "5. değer: 5.6\n",
      "olarak kaydedilmiştir.\n",
      "\n",
      "Girdiğiniz değerlerin türleri aşağıda listelenmiştir:\n",
      "1. değerin türü <class 'str'>\n",
      "2. değerin türü <class 'str'>\n",
      "3. değerin türü <class 'str'>\n",
      "4. değerin türü <class 'str'>\n",
      "5. değerin türü <class 'str'>\n",
      "\n"
     ]
    }
   ],
   "source": [
    "value1 = input(\"1. değeri giriniz: \")\n",
    "value2 = input(\"2. değeri giriniz: \")\n",
    "value3 = input(\"3. değeri giriniz: \")        # Döngünün gözünü seveyim. İlk ders kullanmadık diye copy paste yaptık artık :)\n",
    "value4 = input(\"4. değeri giriniz: \")\n",
    "value5 = input(\"5. değeri giriniz: \")\n",
    "print(f\"\"\"\n",
    "Girdiğiniz \n",
    "1. değer: {value1} \n",
    "2. değer: {value2}     \n",
    "3. değer: {value3}\n",
    "4. değer: {value4} \n",
    "5. değer: {value5}\n",
    "olarak kaydedilmiştir.\"\"\")     # Kodları okumak kolay olsun diye print içine string ifade yazdırırken alt satırları da kullanabilmek için üç tırnak kullandım.\n",
    "print('''\n",
    "Girdiğiniz değerlerin türleri aşağıda listelenmiştir:\n",
    "1. değerin türü {}\n",
    "2. değerin türü {}\n",
    "3. değerin türü {}\n",
    "4. değerin türü {}\n",
    "5. değerin türü {}\n",
    "'''.format(type(value1),type(value2),type(value3),type(value4),type(value5))) # hepsinin string olacağını bile bile neden böyle birşey yapıyorum bilmiyorum :))"
   ]
  },
  {
   "cell_type": "code",
   "execution_count": null,
   "metadata": {},
   "outputs": [],
   "source": []
  }
 ],
 "metadata": {
  "kernelspec": {
   "display_name": "Python 3",
   "language": "python",
   "name": "python3"
  },
  "language_info": {
   "codemirror_mode": {
    "name": "ipython",
    "version": 3
   },
   "file_extension": ".py",
   "mimetype": "text/x-python",
   "name": "python",
   "nbconvert_exporter": "python",
   "pygments_lexer": "ipython3",
   "version": "3.9.1"
  }
 },
 "nbformat": 4,
 "nbformat_minor": 4
}
