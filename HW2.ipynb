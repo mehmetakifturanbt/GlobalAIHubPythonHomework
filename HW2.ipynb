{
 "cells": [
  {
   "cell_type": "code",
   "execution_count": 22,
   "metadata": {},
   "outputs": [
    {
     "name": "stdin",
     "output_type": "stream",
     "text": [
      "Adınızı giriniz:  Mehmet Akif\n",
      "Soyadınızı giriniz:  TURAN\n",
      "Yaşınızı giriniz:  35\n",
      "Yıl olarak doğum tarihinizi giriniz:  1985\n"
     ]
    },
    {
     "name": "stdout",
     "output_type": "stream",
     "text": [
      "Adı: Mehmet Akif\n",
      "Soyadı: TURAN\n",
      "Yaşı: 35\n",
      "Doğum Yılı: 1985\n",
      "You can go out to the street :)\n"
     ]
    }
   ],
   "source": [
    "user = []\n",
    "sayac=0\n",
    "firstName = input(\"Adınızı giriniz: \")\n",
    "lastName = input(\"Soyadınızı giriniz: \")\n",
    "age = input(\"Yaşınızı giriniz: \")\n",
    "dateOfBirth = input(\"Yıl olarak doğum tarihinizi giriniz: \") \n",
    "user=[firstName, lastName, age, dateOfBirth]\n",
    "aciklamalar=[\"Adı: \",\"Soyadı: \",\"Yaşı: \",\"Doğum Yılı: \"]\n",
    "for bilgi in user:\n",
    "    print(aciklamalar[sayac],end=\"\")\n",
    "    print(bilgi)\n",
    "    sayac+=1\n",
    "if int(age)<18:\n",
    "    print(\"You can't go out because it's too dangerous!\")  # Ödevde eğer 18'den küçükse bunu yaz diyor. \n",
    "else:\n",
    "    print(\"You can go out to the street :)\") # Ödevde eğer 18'den büyükse bunu yaz diyor. Bu durumda ben olsam ikisi ni de if ile yapardım ama sanırım istenen bu şekilde. Umarım doğrudur :)\n"
   ]
  },
  {
   "cell_type": "code",
   "execution_count": null,
   "metadata": {},
   "outputs": [],
   "source": []
  },
  {
   "cell_type": "code",
   "execution_count": null,
   "metadata": {},
   "outputs": [],
   "source": []
  }
 ],
 "metadata": {
  "kernelspec": {
   "display_name": "Python 3",
   "language": "python",
   "name": "python3"
  },
  "language_info": {
   "codemirror_mode": {
    "name": "ipython",
    "version": 3
   },
   "file_extension": ".py",
   "mimetype": "text/x-python",
   "name": "python",
   "nbconvert_exporter": "python",
   "pygments_lexer": "ipython3",
   "version": "3.9.1"
  }
 },
 "nbformat": 4,
 "nbformat_minor": 4
}
